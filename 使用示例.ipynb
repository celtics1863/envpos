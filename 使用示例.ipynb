{
 "cells": [
  {
   "cell_type": "code",
   "execution_count": null,
   "id": "9c96c5d2-aae6-4bd9-af87-79dae024ba2c",
   "metadata": {
    "execution": {
     "iopub.execute_input": "2023-03-28T11:11:20.960888Z",
     "iopub.status.busy": "2023-03-28T11:11:20.960489Z",
     "iopub.status.idle": "2023-03-28T11:11:23.477705Z",
     "shell.execute_reply": "2023-03-28T11:11:23.476947Z",
     "shell.execute_reply.started": "2023-03-28T11:11:20.960825Z"
    },
    "tags": []
   },
   "outputs": [
    {
     "ename": "TypeError",
     "evalue": "__init__() got an unexpected keyword argument 'verbose'",
     "output_type": "error",
     "traceback": [
      "\u001b[1;31m---------------------------------------------------------------------------\u001b[0m",
      "\u001b[1;31mTypeError\u001b[0m                                 Traceback (most recent call last)",
      "\u001b[1;32md:\\2022Spring\\EnvText\\envpos\\使用示例.ipynb Cell 1\u001b[0m in \u001b[0;36m<cell line: 1>\u001b[1;34m()\u001b[0m\n\u001b[1;32m----> <a href='vscode-notebook-cell:/d%3A/2022Spring/EnvText/envpos/%E4%BD%BF%E7%94%A8%E7%A4%BA%E4%BE%8B.ipynb#W0sZmlsZQ%3D%3D?line=0'>1</a>\u001b[0m \u001b[39mimport\u001b[39;00m \u001b[39menvpos\u001b[39;00m\n",
      "File \u001b[1;32md:\\2022Spring\\EnvText\\envpos\\envpos\\__init__.py:155\u001b[0m, in \u001b[0;36m<module>\u001b[1;34m\u001b[0m\n\u001b[0;32m    150\u001b[0m     \u001b[39m@property\u001b[39m\n\u001b[0;32m    151\u001b[0m     \u001b[39mdef\u001b[39;00m \u001b[39mlabels\u001b[39m(\u001b[39mself\u001b[39m):\n\u001b[0;32m    152\u001b[0m         \u001b[39mreturn\u001b[39;00m LABEL_MAPPING\n\u001b[1;32m--> 155\u001b[0m pos \u001b[39m=\u001b[39m POS()\n\u001b[0;32m    156\u001b[0m cut \u001b[39m=\u001b[39m pos\u001b[39m.\u001b[39mcut\n\u001b[0;32m    157\u001b[0m generate_html \u001b[39m=\u001b[39m pos\u001b[39m.\u001b[39mgenerate_html\n",
      "File \u001b[1;32md:\\2022Spring\\EnvText\\envpos\\envpos\\__init__.py:56\u001b[0m, in \u001b[0;36mPOS.__init__\u001b[1;34m(self)\u001b[0m\n\u001b[0;32m     54\u001b[0m \u001b[39mdef\u001b[39;00m \u001b[39m__init__\u001b[39m(\u001b[39mself\u001b[39m):\n\u001b[0;32m     55\u001b[0m     \u001b[39mself\u001b[39m\u001b[39m.\u001b[39mfile_config \u001b[39m=\u001b[39m FileConfig()\n\u001b[1;32m---> 56\u001b[0m     \u001b[39mself\u001b[39m\u001b[39m.\u001b[39mmodel \u001b[39m=\u001b[39m AlbertNER(\u001b[39mself\u001b[39;49m\u001b[39m.\u001b[39;49mfile_config\u001b[39m.\u001b[39;49mpos_albert)\n\u001b[0;32m     57\u001b[0m     \u001b[39mself\u001b[39m\u001b[39m.\u001b[39mddp_vizer \u001b[39m=\u001b[39m DependencyVisualizer()\n",
      "File \u001b[1;32md:\\2022Spring\\EnvText\\envpos\\envpos\\models\\bert_base.py:16\u001b[0m, in \u001b[0;36mBertBase.__init__\u001b[1;34m(self, path, config, **kwargs)\u001b[0m\n\u001b[0;32m     14\u001b[0m \u001b[39mself\u001b[39m\u001b[39m.\u001b[39mupdate_config(config)\n\u001b[0;32m     15\u001b[0m \u001b[39mself\u001b[39m\u001b[39m.\u001b[39minitialize_tokenizer(path)\n\u001b[1;32m---> 16\u001b[0m \u001b[39mself\u001b[39;49m\u001b[39m.\u001b[39;49minitialize_bert(path)\n\u001b[0;32m     17\u001b[0m \u001b[39mif\u001b[39;00m \u001b[39m'\u001b[39m\u001b[39mmax_length\u001b[39m\u001b[39m'\u001b[39m \u001b[39mnot\u001b[39;00m \u001b[39min\u001b[39;00m kwargs:\n\u001b[0;32m     18\u001b[0m     \u001b[39mself\u001b[39m\u001b[39m.\u001b[39mset_attribute(max_length \u001b[39m=\u001b[39m \u001b[39m512\u001b[39m)\n",
      "File \u001b[1;32md:\\2022Spring\\EnvText\\envpos\\envpos\\models\\albert_ner.py:211\u001b[0m, in \u001b[0;36mAlbertNER.initialize_bert\u001b[1;34m(self, path, config, **kwargs)\u001b[0m\n\u001b[0;32m    209\u001b[0m \u001b[39mdef\u001b[39;00m \u001b[39minitialize_bert\u001b[39m(\u001b[39mself\u001b[39m,path \u001b[39m=\u001b[39m \u001b[39mNone\u001b[39;00m,config \u001b[39m=\u001b[39m \u001b[39mNone\u001b[39;00m,\u001b[39m*\u001b[39m\u001b[39m*\u001b[39mkwargs):\n\u001b[0;32m    210\u001b[0m     \u001b[39msuper\u001b[39m()\u001b[39m.\u001b[39minitialize_bert(path,config,\u001b[39m*\u001b[39m\u001b[39m*\u001b[39mkwargs)\n\u001b[1;32m--> 211\u001b[0m     \u001b[39mself\u001b[39m\u001b[39m.\u001b[39mmodel \u001b[39m=\u001b[39m AlbertCRF\u001b[39m.\u001b[39;49mfrom_pretrained(\u001b[39mself\u001b[39;49m\u001b[39m.\u001b[39;49mmodel_path,config \u001b[39m=\u001b[39;49m \u001b[39mself\u001b[39;49m\u001b[39m.\u001b[39;49mconfig,verbose\u001b[39m=\u001b[39;49m\u001b[39mFalse\u001b[39;49;00m)\n\u001b[0;32m    212\u001b[0m     \u001b[39m# if self.key_metric == 'validation loss':\u001b[39;00m\n\u001b[0;32m    213\u001b[0m     \u001b[39mif\u001b[39;00m \u001b[39mself\u001b[39m\u001b[39m.\u001b[39mnum_entities \u001b[39m==\u001b[39m \u001b[39m1\u001b[39m:\n",
      "File \u001b[1;32mc:\\Users\\17938\\.conda\\envs\\torch\\lib\\site-packages\\transformers\\modeling_utils.py:2156\u001b[0m, in \u001b[0;36mPreTrainedModel.from_pretrained\u001b[1;34m(cls, pretrained_model_name_or_path, *model_args, **kwargs)\u001b[0m\n\u001b[0;32m   2153\u001b[0m     init_contexts\u001b[39m.\u001b[39mappend(init_empty_weights())\n\u001b[0;32m   2155\u001b[0m \u001b[39mwith\u001b[39;00m ContextManagers(init_contexts):\n\u001b[1;32m-> 2156\u001b[0m     model \u001b[39m=\u001b[39m \u001b[39mcls\u001b[39;49m(config, \u001b[39m*\u001b[39;49mmodel_args, \u001b[39m*\u001b[39;49m\u001b[39m*\u001b[39;49mmodel_kwargs)\n\u001b[0;32m   2158\u001b[0m \u001b[39mif\u001b[39;00m load_in_8bit:\n\u001b[0;32m   2159\u001b[0m     \u001b[39mfrom\u001b[39;00m \u001b[39m.\u001b[39;00m\u001b[39mutils\u001b[39;00m\u001b[39m.\u001b[39;00m\u001b[39mbitsandbytes\u001b[39;00m \u001b[39mimport\u001b[39;00m get_key_to_not_convert, replace_8bit_linear\n",
      "\u001b[1;31mTypeError\u001b[0m: __init__() got an unexpected keyword argument 'verbose'"
     ]
    }
   ],
   "source": [
    "import envpos"
   ]
  },
  {
   "cell_type": "markdown",
   "id": "b31a64c0-1d64-444c-9e61-f8b5a7ce8338",
   "metadata": {},
   "source": [
    "### 1. 普通使用方式"
   ]
  },
  {
   "cell_type": "markdown",
   "id": "0b3b2cf8-d5f8-4822-bd20-f563816297e7",
   "metadata": {},
   "source": [
    "一条文本"
   ]
  },
  {
   "cell_type": "code",
   "execution_count": 2,
   "id": "639cf185-cf9a-430f-9c26-c34191bdb725",
   "metadata": {
    "execution": {
     "iopub.execute_input": "2023-03-28T11:11:23.479123Z",
     "iopub.status.busy": "2023-03-28T11:11:23.478650Z",
     "iopub.status.idle": "2023-03-28T11:11:23.482267Z",
     "shell.execute_reply": "2023-03-28T11:11:23.481796Z",
     "shell.execute_reply.started": "2023-03-28T11:11:23.479095Z"
    },
    "tags": []
   },
   "outputs": [],
   "source": [
    "s = '''\n",
    "（一）重点行业绿色升级工程。以钢铁、有色金属、建材、石化化工等行业为重点，推进节能改造和污染物深度治理。推广高效精馏系统、高温高压干熄焦、富氧强化熔炼等节能技术，鼓励将高炉—转炉长流程炼钢转型为电炉短流程炼钢。\n",
    "'''"
   ]
  },
  {
   "cell_type": "markdown",
   "id": "d9a84d4d-0575-4d93-9171-50b56e54a04c",
   "metadata": {},
   "source": [
    "可视化"
   ]
  },
  {
   "cell_type": "code",
   "execution_count": 3,
   "id": "397ec415-606e-4d83-8779-f311250053f0",
   "metadata": {
    "execution": {
     "iopub.execute_input": "2023-03-28T11:11:23.483879Z",
     "iopub.status.busy": "2023-03-28T11:11:23.483680Z",
     "iopub.status.idle": "2023-03-28T11:11:23.575420Z",
     "shell.execute_reply": "2023-03-28T11:11:23.574845Z",
     "shell.execute_reply.started": "2023-03-28T11:11:23.483863Z"
    },
    "tags": []
   },
   "outputs": [
    {
     "name": "stderr",
     "output_type": "stream",
     "text": [
      "/usr/local/lib/python3.8/site-packages/torchcrf/__init__.py:305: UserWarning: where received a uint8 condition tensor. This behavior is deprecated and will be removed in a future version of PyTorch. Use a boolean condition instead. (Triggered internally at  ../aten/src/ATen/native/TensorCompare.cpp:402.)\n",
      "  score = torch.where(mask[i].unsqueeze(1), next_score, score)\n"
     ]
    },
    {
     "data": {
      "text/html": [
       "\n",
       "        <div style=\"line-height:2.5;\">\n",
       "         \n",
       "        （一） \n",
       "        <span style=\"font-size: 0.8em; background: lightblue;  font-weight: bold; line-height: 1; border-radius: 0.35em; vertical-align: middle; margin-right: 0.5rem\">ord</span>\n",
       "     \n",
       "        重点行业绿色升级工程 \n",
       "        <span style=\"font-size: 0.8em; background: lightcoral;  font-weight: bold; line-height: 1; border-radius: 0.35em; vertical-align: middle; margin-right: 0.5rem\">工程/项目/设施</span>\n",
       "     \n",
       "        。 \n",
       "        <span style=\"font-size: 0.8em; background: lightblue;  font-weight: bold; line-height: 1; border-radius: 0.35em; vertical-align: middle; margin-right: 0.5rem\">w/标点</span>\n",
       "     \n",
       "        以 \n",
       "        <span style=\"font-size: 0.8em; background: lightblue;  font-weight: bold; line-height: 1; border-radius: 0.35em; vertical-align: middle; margin-right: 0.5rem\">p/介词</span>\n",
       "     \n",
       "        钢铁 \n",
       "        <span style=\"font-size: 0.8em; background: lightgreen;  font-weight: bold; line-height: 1; border-radius: 0.35em; vertical-align: middle; margin-right: 0.5rem\">行业</span>\n",
       "     \n",
       "        、 \n",
       "        <span style=\"font-size: 0.8em; background: lightblue;  font-weight: bold; line-height: 1; border-radius: 0.35em; vertical-align: middle; margin-right: 0.5rem\">conj/连词</span>\n",
       "     \n",
       "        有色金属 \n",
       "        <span style=\"font-size: 0.8em; background: lightgreen;  font-weight: bold; line-height: 1; border-radius: 0.35em; vertical-align: middle; margin-right: 0.5rem\">行业</span>\n",
       "     \n",
       "        、 \n",
       "        <span style=\"font-size: 0.8em; background: lightblue;  font-weight: bold; line-height: 1; border-radius: 0.35em; vertical-align: middle; margin-right: 0.5rem\">conj/连词</span>\n",
       "     \n",
       "        建材 \n",
       "        <span style=\"font-size: 0.8em; background: lightgreen;  font-weight: bold; line-height: 1; border-radius: 0.35em; vertical-align: middle; margin-right: 0.5rem\">行业</span>\n",
       "     \n",
       "        、 \n",
       "        <span style=\"font-size: 0.8em; background: lightblue;  font-weight: bold; line-height: 1; border-radius: 0.35em; vertical-align: middle; margin-right: 0.5rem\">conj/连词</span>\n",
       "     \n",
       "        石化化工 \n",
       "        <span style=\"font-size: 0.8em; background: lightgreen;  font-weight: bold; line-height: 1; border-radius: 0.35em; vertical-align: middle; margin-right: 0.5rem\">行业</span>\n",
       "     \n",
       "        等 \n",
       "        <span style=\"font-size: 0.8em; background: lightblue;  font-weight: bold; line-height: 1; border-radius: 0.35em; vertical-align: middle; margin-right: 0.5rem\">u/助词</span>\n",
       "     \n",
       "        行业 \n",
       "        <span style=\"font-size: 0.8em; background: lightblue;  font-weight: bold; line-height: 1; border-radius: 0.35em; vertical-align: middle; margin-right: 0.5rem\">n/名词</span>\n",
       "     \n",
       "        为 \n",
       "        <span style=\"font-size: 0.8em; background: lightblue;  font-weight: bold; line-height: 1; border-radius: 0.35em; vertical-align: middle; margin-right: 0.5rem\">v/动词</span>\n",
       "     \n",
       "        重点 \n",
       "        <span style=\"font-size: 0.8em; background: lightblue;  font-weight: bold; line-height: 1; border-radius: 0.35em; vertical-align: middle; margin-right: 0.5rem\">n/名词</span>\n",
       "     \n",
       "        ， \n",
       "        <span style=\"font-size: 0.8em; background: lightblue;  font-weight: bold; line-height: 1; border-radius: 0.35em; vertical-align: middle; margin-right: 0.5rem\">w/标点</span>\n",
       "     \n",
       "        推进 \n",
       "        <span style=\"font-size: 0.8em; background: lightblue;  font-weight: bold; line-height: 1; border-radius: 0.35em; vertical-align: middle; margin-right: 0.5rem\">v/动词</span>\n",
       "     \n",
       "        节能改造 \n",
       "        <span style=\"font-size: 0.8em; background: lightgreen;  font-weight: bold; line-height: 1; border-radius: 0.35em; vertical-align: middle; margin-right: 0.5rem\">政策行动</span>\n",
       "     \n",
       "        和 \n",
       "        <span style=\"font-size: 0.8em; background: lightblue;  font-weight: bold; line-height: 1; border-radius: 0.35em; vertical-align: middle; margin-right: 0.5rem\">conj/连词</span>\n",
       "     \n",
       "        污染物深度治理 \n",
       "        <span style=\"font-size: 0.8em; background: lightgreen;  font-weight: bold; line-height: 1; border-radius: 0.35em; vertical-align: middle; margin-right: 0.5rem\">政策行动</span>\n",
       "     \n",
       "        。 \n",
       "        <span style=\"font-size: 0.8em; background: lightblue;  font-weight: bold; line-height: 1; border-radius: 0.35em; vertical-align: middle; margin-right: 0.5rem\">w/标点</span>\n",
       "     \n",
       "        推广 \n",
       "        <span style=\"font-size: 0.8em; background: lightblue;  font-weight: bold; line-height: 1; border-radius: 0.35em; vertical-align: middle; margin-right: 0.5rem\">v/动词</span>\n",
       "     \n",
       "        高效精馏系统 \n",
       "        <span style=\"font-size: 0.8em; background: lightcoral;  font-weight: bold; line-height: 1; border-radius: 0.35em; vertical-align: middle; margin-right: 0.5rem\">设备/工具</span>\n",
       "     \n",
       "        、 \n",
       "        <span style=\"font-size: 0.8em; background: lightblue;  font-weight: bold; line-height: 1; border-radius: 0.35em; vertical-align: middle; margin-right: 0.5rem\">conj/连词</span>\n",
       "     \n",
       "        高温高压干熄焦 \n",
       "        <span style=\"font-size: 0.8em; background: lightcoral;  font-weight: bold; line-height: 1; border-radius: 0.35em; vertical-align: middle; margin-right: 0.5rem\">方法/技术</span>\n",
       "     \n",
       "        、 \n",
       "        <span style=\"font-size: 0.8em; background: lightblue;  font-weight: bold; line-height: 1; border-radius: 0.35em; vertical-align: middle; margin-right: 0.5rem\">conj/连词</span>\n",
       "     \n",
       "        富氧强化熔炼 \n",
       "        <span style=\"font-size: 0.8em; background: lightcoral;  font-weight: bold; line-height: 1; border-radius: 0.35em; vertical-align: middle; margin-right: 0.5rem\">方法/技术</span>\n",
       "     \n",
       "        等 \n",
       "        <span style=\"font-size: 0.8em; background: lightblue;  font-weight: bold; line-height: 1; border-radius: 0.35em; vertical-align: middle; margin-right: 0.5rem\">u/助词</span>\n",
       "     \n",
       "        节能技术 \n",
       "        <span style=\"font-size: 0.8em; background: lightcoral;  font-weight: bold; line-height: 1; border-radius: 0.35em; vertical-align: middle; margin-right: 0.5rem\">方法/技术</span>\n",
       "     \n",
       "        ， \n",
       "        <span style=\"font-size: 0.8em; background: lightblue;  font-weight: bold; line-height: 1; border-radius: 0.35em; vertical-align: middle; margin-right: 0.5rem\">w/标点</span>\n",
       "     \n",
       "        鼓励 \n",
       "        <span style=\"font-size: 0.8em; background: lightblue;  font-weight: bold; line-height: 1; border-radius: 0.35em; vertical-align: middle; margin-right: 0.5rem\">v/动词</span>\n",
       "     \n",
       "        将 \n",
       "        <span style=\"font-size: 0.8em; background: lightblue;  font-weight: bold; line-height: 1; border-radius: 0.35em; vertical-align: middle; margin-right: 0.5rem\">p/介词</span>\n",
       "     \n",
       "        高炉—转炉长流程 \n",
       "        <span style=\"font-size: 0.8em; background: lightcoral;  font-weight: bold; line-height: 1; border-radius: 0.35em; vertical-align: middle; margin-right: 0.5rem\">方法/技术</span>\n",
       "    炼钢 \n",
       "        转型 \n",
       "        <span style=\"font-size: 0.8em; background: lightblue;  font-weight: bold; line-height: 1; border-radius: 0.35em; vertical-align: middle; margin-right: 0.5rem\">v/动词</span>\n",
       "     \n",
       "        为 \n",
       "        <span style=\"font-size: 0.8em; background: lightblue;  font-weight: bold; line-height: 1; border-radius: 0.35em; vertical-align: middle; margin-right: 0.5rem\">f/方位词</span>\n",
       "     \n",
       "        电炉短流程 \n",
       "        <span style=\"font-size: 0.8em; background: lightcoral;  font-weight: bold; line-height: 1; border-radius: 0.35em; vertical-align: middle; margin-right: 0.5rem\">方法/技术</span>\n",
       "     \n",
       "        炼钢 \n",
       "        <span style=\"font-size: 0.8em; background: lightblue;  font-weight: bold; line-height: 1; border-radius: 0.35em; vertical-align: middle; margin-right: 0.5rem\">vn/动名词</span>\n",
       "     \n",
       "        。 \n",
       "        <span style=\"font-size: 0.8em; background: lightblue;  font-weight: bold; line-height: 1; border-radius: 0.35em; vertical-align: middle; margin-right: 0.5rem\">w/标点</span>\n",
       "    </div>"
      ]
     },
     "metadata": {},
     "output_type": "display_data"
    }
   ],
   "source": [
    "envpos.viz(s)"
   ]
  },
  {
   "cell_type": "markdown",
   "id": "6ecc1b91-9cad-487f-8f9d-ab827848d501",
   "metadata": {
    "execution": {
     "iopub.execute_input": "2023-03-28T09:49:49.183531Z",
     "iopub.status.busy": "2023-03-28T09:49:49.183212Z",
     "iopub.status.idle": "2023-03-28T09:49:49.195242Z",
     "shell.execute_reply": "2023-03-28T09:49:49.194537Z",
     "shell.execute_reply.started": "2023-03-28T09:49:49.183511Z"
    },
    "tags": []
   },
   "source": [
    "识别结果"
   ]
  },
  {
   "cell_type": "code",
   "execution_count": 4,
   "id": "26e16d69-b197-4ec0-bb46-30521d5e4715",
   "metadata": {
    "execution": {
     "iopub.execute_input": "2023-03-28T11:11:23.576416Z",
     "iopub.status.busy": "2023-03-28T11:11:23.576183Z",
     "iopub.status.idle": "2023-03-28T11:11:23.654550Z",
     "shell.execute_reply": "2023-03-28T11:11:23.653918Z",
     "shell.execute_reply.started": "2023-03-28T11:11:23.576399Z"
    },
    "tags": []
   },
   "outputs": [
    {
     "name": "stdout",
     "output_type": "stream",
     "text": [
      "（一） \t ord\n",
      "重点行业绿色升级工程 \t pro\n",
      "。 \t w\n",
      "以 \t p\n",
      "钢铁 \t hy\n"
     ]
    }
   ],
   "source": [
    "words,poses = envpos.cut(s)\n",
    "for idx,(w,p) in enumerate(zip(words,poses)):\n",
    "    if idx < 5:\n",
    "        print(w,\"\\t\",p)"
   ]
  },
  {
   "cell_type": "markdown",
   "id": "44b6b2f8-d2f7-48c6-ac71-7dcf46ab8b3e",
   "metadata": {},
   "source": [
    "### 2 使用BERT\n",
    "\n",
    "BERT比ALbert准确率足足高6个点，$F_1$达到91.5%，但是模型较大，推理速度较慢，需要自己下载模型文件\n",
    "\n",
    "下载地址为：  \n",
    "\n",
    "链接：https://pan.baidu.com/s/1hYEJUM04UdHLKCnnAGIijQ   \n",
    "提取码：gqyz   \n"
   ]
  },
  {
   "cell_type": "code",
   "execution_count": 5,
   "id": "42794d76-5812-4683-97a1-e79bd0fd6fbd",
   "metadata": {
    "execution": {
     "iopub.execute_input": "2023-03-28T11:11:23.655574Z",
     "iopub.status.busy": "2023-03-28T11:11:23.655345Z",
     "iopub.status.idle": "2023-03-28T11:11:24.882899Z",
     "shell.execute_reply": "2023-03-28T11:11:24.882285Z",
     "shell.execute_reply.started": "2023-03-28T11:11:23.655554Z"
    },
    "tags": []
   },
   "outputs": [],
   "source": [
    "envpos.change_bert(\"模型的文件夹\")"
   ]
  },
  {
   "cell_type": "markdown",
   "id": "d52ac9f5-fdfc-49d2-972f-a022c1efecd6",
   "metadata": {
    "execution": {
     "iopub.execute_input": "2023-03-28T10:28:18.567790Z",
     "iopub.status.busy": "2023-03-28T10:28:18.567441Z",
     "iopub.status.idle": "2023-03-28T10:28:18.571668Z",
     "shell.execute_reply": "2023-03-28T10:28:18.570938Z",
     "shell.execute_reply.started": "2023-03-28T10:28:18.567767Z"
    },
    "tags": []
   },
   "source": [
    "切换gpu（可选）"
   ]
  },
  {
   "cell_type": "code",
   "execution_count": 6,
   "id": "ca8abb1a-7a79-4bb0-a260-7e28eaa4155f",
   "metadata": {
    "execution": {
     "iopub.execute_input": "2023-03-28T11:11:24.883960Z",
     "iopub.status.busy": "2023-03-28T11:11:24.883755Z",
     "iopub.status.idle": "2023-03-28T11:11:27.510614Z",
     "shell.execute_reply": "2023-03-28T11:11:27.509883Z",
     "shell.execute_reply.started": "2023-03-28T11:11:24.883941Z"
    },
    "tags": []
   },
   "outputs": [],
   "source": [
    "envpos.use_cuda()"
   ]
  },
  {
   "cell_type": "markdown",
   "id": "badd510f-2f36-48c6-bdee-7ae5266a215c",
   "metadata": {
    "execution": {
     "iopub.execute_input": "2023-03-28T10:28:47.231788Z",
     "iopub.status.busy": "2023-03-28T10:28:47.231401Z",
     "iopub.status.idle": "2023-03-28T10:28:47.243838Z",
     "shell.execute_reply": "2023-03-28T10:28:47.243016Z",
     "shell.execute_reply.started": "2023-03-28T10:28:47.231768Z"
    },
    "tags": []
   },
   "source": [
    "推理"
   ]
  },
  {
   "cell_type": "code",
   "execution_count": 7,
   "id": "b5771ec7-6a99-4ae1-baa9-14b375f070d8",
   "metadata": {
    "execution": {
     "iopub.execute_input": "2023-03-28T11:11:27.511547Z",
     "iopub.status.busy": "2023-03-28T11:11:27.511378Z",
     "iopub.status.idle": "2023-03-28T11:11:27.708217Z",
     "shell.execute_reply": "2023-03-28T11:11:27.707525Z",
     "shell.execute_reply.started": "2023-03-28T11:11:27.511531Z"
    },
    "tags": []
   },
   "outputs": [
    {
     "name": "stdout",
     "output_type": "stream",
     "text": [
      "（一） \t ord\n",
      "重点行业绿色升级工程 \t pro\n",
      "。 \t w\n",
      "以 \t p\n",
      "钢铁 \t hy\n"
     ]
    }
   ],
   "source": [
    "words,poses = envpos.cut(s)\n",
    "for idx,(w,p) in enumerate(zip(words,poses)):\n",
    "    if idx < 5:\n",
    "        print(w,\"\\t\",p)"
   ]
  },
  {
   "cell_type": "markdown",
   "id": "70c07314-0350-40a9-8886-f26b17042185",
   "metadata": {},
   "source": [
    "### 3. 批量文本推理"
   ]
  },
  {
   "cell_type": "code",
   "execution_count": 8,
   "id": "11eb5315-7e31-47ec-864e-2121256f4ce0",
   "metadata": {
    "execution": {
     "iopub.execute_input": "2023-03-28T11:11:27.709314Z",
     "iopub.status.busy": "2023-03-28T11:11:27.709104Z",
     "iopub.status.idle": "2023-03-28T11:11:27.742775Z",
     "shell.execute_reply": "2023-03-28T11:11:27.742122Z",
     "shell.execute_reply.started": "2023-03-28T11:11:27.709290Z"
    },
    "tags": []
   },
   "outputs": [
    {
     "name": "stdout",
     "output_type": "stream",
     "text": [
      "第0条文本：\n",
      "\t （三） \t ord\n",
      "\t 城镇绿色节能改造工程 \t pro\n",
      "\t 。 \t w\n",
      "\t 全面 \t d\n",
      "\t 推进 \t v\n",
      "\t ... \t ...\n",
      "第1条文本：\n",
      "\t （四） \t ord\n",
      "\t 交通物流节能减排工程 \t pro\n",
      "\t 。 \t w\n",
      "\t 推动 \t v\n",
      "\t 绿色铁路 \t ins\n",
      "\t ... \t ...\n",
      "第2条文本：\n",
      "\t （八） \t ord\n",
      "\t 煤炭清洁高效利用工程 \t pro\n",
      "\t 。 \t w\n",
      "\t 要 \t d\n",
      "\t 立足 \t v\n",
      "\t ... \t ...\n"
     ]
    }
   ],
   "source": [
    "s = [\n",
    "    \"（三）城镇绿色节能改造工程。全面推进城镇绿色规划、绿色建设、绿色运行管理，推动低碳城市、韧性城市、海绵城市、“无废城市”建设。\",\n",
    "    \"（四）交通物流节能减排工程。推动绿色铁路、绿色公路、绿色港口、绿色航道、绿色机场建设，有序推进充换电、加注（气）、加氢、港口机场岸电等基础设施建设。\",\n",
    "    \"（八）煤炭清洁高效利用工程。要立足以煤为主的基本国情，坚持先立后破，严格合理控制煤炭消费增长，抓好煤炭清洁高效利用，推进存量煤电机组节煤降耗改造、供热改造、灵活性改造“三改联动”，持续推动煤电机组超低排放改造。\"\n",
    "]\n",
    "\n",
    "result = envpos.cut(s)\n",
    "\n",
    "for idx,(words,poses) in enumerate(result):\n",
    "    print(f\"第{idx}条文本：\")\n",
    "    for jdx,(w,p) in enumerate(zip(words,poses)):\n",
    "        if jdx < 5:\n",
    "            print(\"\\t\",w,\"\\t\",p)\n",
    "    print(\"\\t\",\"...\",\"\\t\",\"...\")"
   ]
  },
  {
   "cell_type": "markdown",
   "id": "2a7cdda3-56df-4b1b-ab9c-defe520de365",
   "metadata": {},
   "source": [
    "### 4. 与DDparser连用进行句法分析"
   ]
  },
  {
   "cell_type": "code",
   "execution_count": 9,
   "id": "2f2df93b-aaeb-4a46-a52e-33274645b531",
   "metadata": {
    "execution": {
     "iopub.execute_input": "2023-03-28T11:11:27.744566Z",
     "iopub.status.busy": "2023-03-28T11:11:27.744390Z",
     "iopub.status.idle": "2023-03-28T11:11:27.747310Z",
     "shell.execute_reply": "2023-03-28T11:11:27.746791Z",
     "shell.execute_reply.started": "2023-03-28T11:11:27.744549Z"
    },
    "tags": []
   },
   "outputs": [],
   "source": [
    "s = \"以钢铁、有色金属、建材、石化化工等行业为重点，推进节能改造和污染物深度治理。\""
   ]
  },
  {
   "cell_type": "markdown",
   "id": "cbb1e123-f2aa-46c9-874e-74544e9ce918",
   "metadata": {},
   "source": [
    "可视化"
   ]
  },
  {
   "cell_type": "code",
   "execution_count": 10,
   "id": "04fd946c-693d-4c8a-96a3-979443c79873",
   "metadata": {
    "execution": {
     "iopub.execute_input": "2023-03-28T11:11:27.748423Z",
     "iopub.status.busy": "2023-03-28T11:11:27.748032Z",
     "iopub.status.idle": "2023-03-28T11:11:30.522850Z",
     "shell.execute_reply": "2023-03-28T11:11:30.522228Z",
     "shell.execute_reply.started": "2023-03-28T11:11:27.748405Z"
    },
    "tags": []
   },
   "outputs": [
    {
     "name": "stdout",
     "output_type": "stream",
     "text": [
      "huggingface/tokenizers: The current process just got forked, after parallelism has already been used. Disabling parallelism to avoid deadlocks...\n",
      "To disable this warning, you can either:\n",
      "\t- Avoid using `tokenizers` before the fork if possible\n",
      "\t- Explicitly set the environment variable TOKENIZERS_PARALLELISM=(true | false)\n",
      "huggingface/tokenizers: The current process just got forked, after parallelism has already been used. Disabling parallelism to avoid deadlocks...\n",
      "To disable this warning, you can either:\n",
      "\t- Avoid using `tokenizers` before the fork if possible\n",
      "\t- Explicitly set the environment variable TOKENIZERS_PARALLELISM=(true | false)\n",
      "huggingface/tokenizers: The current process just got forked, after parallelism has already been used. Disabling parallelism to avoid deadlocks...\n",
      "To disable this warning, you can either:\n",
      "\t- Avoid using `tokenizers` before the fork if possible\n",
      "\t- Explicitly set the environment variable TOKENIZERS_PARALLELISM=(true | false)\n",
      "huggingface/tokenizers: The current process just got forked, after parallelism has already been used. Disabling parallelism to avoid deadlocks...\n",
      "To disable this warning, you can either:\n",
      "\t- Avoid using `tokenizers` before the fork if possible\n",
      "\t- Explicitly set the environment variable TOKENIZERS_PARALLELISM=(true | false)\n"
     ]
    },
    {
     "name": "stderr",
     "output_type": "stream",
     "text": [
      "/usr/local/lib/python3.8/site-packages/paddle/fluid/dygraph/math_op_patch.py:275: UserWarning: The dtype of left and right variables are not the same, left dtype is paddle.int64, but right dtype is paddle.int32, the right dtype will convert to paddle.int64\n",
      "  warnings.warn(\n",
      "/usr/local/lib/python3.8/site-packages/paddle/fluid/framework.py:4002: DeprecationWarning: Op `cumsum` is executed through `append_op` under the dynamic mode, the corresponding API implementation needs to be upgraded to using `_C_ops` method.\n",
      "  warnings.warn(\n",
      "/usr/local/lib/python3.8/site-packages/paddle/fluid/dygraph/math_op_patch.py:275: UserWarning: The dtype of left and right variables are not the same, left dtype is paddle.int64, but right dtype is paddle.bool, the right dtype will convert to paddle.int64\n",
      "  warnings.warn(\n",
      "/usr/local/lib/python3.8/site-packages/paddle/fluid/framework.py:4002: DeprecationWarning: Op `fill_any_like` is executed through `append_op` under the dynamic mode, the corresponding API implementation needs to be upgraded to using `_C_ops` method.\n",
      "  warnings.warn(\n",
      "/usr/local/lib/python3.8/site-packages/paddle/fluid/dygraph/math_op_patch.py:275: UserWarning: The dtype of left and right variables are not the same, left dtype is paddle.float32, but right dtype is paddle.bool, the right dtype will convert to paddle.float32\n",
      "  warnings.warn(\n",
      "/usr/local/lib/python3.8/site-packages/paddle/fluid/dygraph/math_op_patch.py:275: UserWarning: The dtype of left and right variables are not the same, left dtype is paddle.float32, but right dtype is paddle.int32, the right dtype will convert to paddle.float32\n",
      "  warnings.warn(\n",
      "/usr/local/lib/python3.8/site-packages/paddle/fluid/framework.py:4002: DeprecationWarning: Op `arg_max` is executed through `append_op` under the dynamic mode, the corresponding API implementation needs to be upgraded to using `_C_ops` method.\n",
      "  warnings.warn(\n"
     ]
    },
    {
     "data": {
      "text/html": [
       "\n",
       "    <svg xmlns=\"http://www.w3.org/2000/svg\" xmlns:xlink=\"http://www.w3.org/1999/xlink\" xml:lang=\"zh\" id=\"0\" class=\"displacy\" width=\"2900\" height=\"812.0\" direction=\"left\" style=\"max-width: none; height: 812.0px; color: #000000; background: #ffffff; font-family: Arial; direction: left\">\n",
       "    <text class=\"displacy-token\" fill=\"currentColor\" text-anchor=\"middle\" y=\"722.0\">\n",
       "        <tspan class=\"displacy-word\" fill=\"currentColor\" x=\"50\">HEAD</tspan>\n",
       "        <tspan class=\"displacy-tag\" dy=\"2em\" fill=\"currentColor\" x=\"50\">HEAD</tspan>\n",
       "    </text>\n",
       "    \n",
       "    <text class=\"displacy-token\" fill=\"currentColor\" text-anchor=\"middle\" y=\"722.0\">\n",
       "        <tspan class=\"displacy-word\" fill=\"currentColor\" x=\"200\">以</tspan>\n",
       "        <tspan class=\"displacy-tag\" dy=\"2em\" fill=\"currentColor\" x=\"200\">p</tspan>\n",
       "    </text>\n",
       "    \n",
       "    <text class=\"displacy-token\" fill=\"currentColor\" text-anchor=\"middle\" y=\"722.0\">\n",
       "        <tspan class=\"displacy-word\" fill=\"currentColor\" x=\"350\">钢铁</tspan>\n",
       "        <tspan class=\"displacy-tag\" dy=\"2em\" fill=\"currentColor\" x=\"350\">hy</tspan>\n",
       "    </text>\n",
       "    \n",
       "    <text class=\"displacy-token\" fill=\"currentColor\" text-anchor=\"middle\" y=\"722.0\">\n",
       "        <tspan class=\"displacy-word\" fill=\"currentColor\" x=\"500\">、</tspan>\n",
       "        <tspan class=\"displacy-tag\" dy=\"2em\" fill=\"currentColor\" x=\"500\">conj</tspan>\n",
       "    </text>\n",
       "    \n",
       "    <text class=\"displacy-token\" fill=\"currentColor\" text-anchor=\"middle\" y=\"722.0\">\n",
       "        <tspan class=\"displacy-word\" fill=\"currentColor\" x=\"650\">有色金属</tspan>\n",
       "        <tspan class=\"displacy-tag\" dy=\"2em\" fill=\"currentColor\" x=\"650\">hy</tspan>\n",
       "    </text>\n",
       "    \n",
       "    <text class=\"displacy-token\" fill=\"currentColor\" text-anchor=\"middle\" y=\"722.0\">\n",
       "        <tspan class=\"displacy-word\" fill=\"currentColor\" x=\"800\">、</tspan>\n",
       "        <tspan class=\"displacy-tag\" dy=\"2em\" fill=\"currentColor\" x=\"800\">conj</tspan>\n",
       "    </text>\n",
       "    \n",
       "    <text class=\"displacy-token\" fill=\"currentColor\" text-anchor=\"middle\" y=\"722.0\">\n",
       "        <tspan class=\"displacy-word\" fill=\"currentColor\" x=\"950\">建材</tspan>\n",
       "        <tspan class=\"displacy-tag\" dy=\"2em\" fill=\"currentColor\" x=\"950\">hy</tspan>\n",
       "    </text>\n",
       "    \n",
       "    <text class=\"displacy-token\" fill=\"currentColor\" text-anchor=\"middle\" y=\"722.0\">\n",
       "        <tspan class=\"displacy-word\" fill=\"currentColor\" x=\"1100\">、</tspan>\n",
       "        <tspan class=\"displacy-tag\" dy=\"2em\" fill=\"currentColor\" x=\"1100\">conj</tspan>\n",
       "    </text>\n",
       "    \n",
       "    <text class=\"displacy-token\" fill=\"currentColor\" text-anchor=\"middle\" y=\"722.0\">\n",
       "        <tspan class=\"displacy-word\" fill=\"currentColor\" x=\"1250\">石化化工</tspan>\n",
       "        <tspan class=\"displacy-tag\" dy=\"2em\" fill=\"currentColor\" x=\"1250\">hy</tspan>\n",
       "    </text>\n",
       "    \n",
       "    <text class=\"displacy-token\" fill=\"currentColor\" text-anchor=\"middle\" y=\"722.0\">\n",
       "        <tspan class=\"displacy-word\" fill=\"currentColor\" x=\"1400\">等</tspan>\n",
       "        <tspan class=\"displacy-tag\" dy=\"2em\" fill=\"currentColor\" x=\"1400\">u</tspan>\n",
       "    </text>\n",
       "    \n",
       "    <text class=\"displacy-token\" fill=\"currentColor\" text-anchor=\"middle\" y=\"722.0\">\n",
       "        <tspan class=\"displacy-word\" fill=\"currentColor\" x=\"1550\">行业</tspan>\n",
       "        <tspan class=\"displacy-tag\" dy=\"2em\" fill=\"currentColor\" x=\"1550\">n</tspan>\n",
       "    </text>\n",
       "    \n",
       "    <text class=\"displacy-token\" fill=\"currentColor\" text-anchor=\"middle\" y=\"722.0\">\n",
       "        <tspan class=\"displacy-word\" fill=\"currentColor\" x=\"1700\">为</tspan>\n",
       "        <tspan class=\"displacy-tag\" dy=\"2em\" fill=\"currentColor\" x=\"1700\">v</tspan>\n",
       "    </text>\n",
       "    \n",
       "    <text class=\"displacy-token\" fill=\"currentColor\" text-anchor=\"middle\" y=\"722.0\">\n",
       "        <tspan class=\"displacy-word\" fill=\"currentColor\" x=\"1850\">重点</tspan>\n",
       "        <tspan class=\"displacy-tag\" dy=\"2em\" fill=\"currentColor\" x=\"1850\">n</tspan>\n",
       "    </text>\n",
       "    \n",
       "    <text class=\"displacy-token\" fill=\"currentColor\" text-anchor=\"middle\" y=\"722.0\">\n",
       "        <tspan class=\"displacy-word\" fill=\"currentColor\" x=\"2000\">，</tspan>\n",
       "        <tspan class=\"displacy-tag\" dy=\"2em\" fill=\"currentColor\" x=\"2000\">w</tspan>\n",
       "    </text>\n",
       "    \n",
       "    <text class=\"displacy-token\" fill=\"currentColor\" text-anchor=\"middle\" y=\"722.0\">\n",
       "        <tspan class=\"displacy-word\" fill=\"currentColor\" x=\"2150\">推进</tspan>\n",
       "        <tspan class=\"displacy-tag\" dy=\"2em\" fill=\"currentColor\" x=\"2150\">v</tspan>\n",
       "    </text>\n",
       "    \n",
       "    <text class=\"displacy-token\" fill=\"currentColor\" text-anchor=\"middle\" y=\"722.0\">\n",
       "        <tspan class=\"displacy-word\" fill=\"currentColor\" x=\"2300\">节能改造</tspan>\n",
       "        <tspan class=\"displacy-tag\" dy=\"2em\" fill=\"currentColor\" x=\"2300\">act</tspan>\n",
       "    </text>\n",
       "    \n",
       "    <text class=\"displacy-token\" fill=\"currentColor\" text-anchor=\"middle\" y=\"722.0\">\n",
       "        <tspan class=\"displacy-word\" fill=\"currentColor\" x=\"2450\">和</tspan>\n",
       "        <tspan class=\"displacy-tag\" dy=\"2em\" fill=\"currentColor\" x=\"2450\">conj</tspan>\n",
       "    </text>\n",
       "    \n",
       "    <text class=\"displacy-token\" fill=\"currentColor\" text-anchor=\"middle\" y=\"722.0\">\n",
       "        <tspan class=\"displacy-word\" fill=\"currentColor\" x=\"2600\">污染物深度治理</tspan>\n",
       "        <tspan class=\"displacy-tag\" dy=\"2em\" fill=\"currentColor\" x=\"2600\">act</tspan>\n",
       "    </text>\n",
       "    \n",
       "    <text class=\"displacy-token\" fill=\"currentColor\" text-anchor=\"middle\" y=\"722.0\">\n",
       "        <tspan class=\"displacy-word\" fill=\"currentColor\" x=\"2750\">。</tspan>\n",
       "        <tspan class=\"displacy-tag\" dy=\"2em\" fill=\"currentColor\" x=\"2750\">w</tspan>\n",
       "    </text>\n",
       "    \n",
       "    <g class=\"displacy-arrow\">\n",
       "        <path class=\"displacy-arc\" id=\"arrow-0-0\" stroke-width=\"2px\" d=\"M212,677.0 212,477.0 1697.0,477.0 1697.0,677.0\" fill=\"none\" stroke=\"currentColor\"/>\n",
       "        <text dy=\"1.25em\" style=\"font-size: 0.8em; letter-spacing: 1px\">\n",
       "            <textPath xlink:href=\"#arrow-0-0\" class=\"displacy-label\" startOffset=\"50%\" side=\"left\" fill=\"currentColor\" text-anchor=\"middle\">ADV</textPath>\n",
       "        </text>\n",
       "        <path class=\"displacy-arrowhead\" d=\"M1697.0,679.0 L1701.0,671.0 1693.0,671.0\" fill=\"currentColor\"/>\n",
       "    </g>\n",
       "    \n",
       "    <g class=\"displacy-arrow\">\n",
       "        <path class=\"displacy-arc\" id=\"arrow-0-1\" stroke-width=\"2px\" d=\"M362,677.0 362,527.0 1541.0,527.0 1541.0,677.0\" fill=\"none\" stroke=\"currentColor\"/>\n",
       "        <text dy=\"1.25em\" style=\"font-size: 0.8em; letter-spacing: 1px\">\n",
       "            <textPath xlink:href=\"#arrow-0-1\" class=\"displacy-label\" startOffset=\"50%\" side=\"left\" fill=\"currentColor\" text-anchor=\"middle\">ATT</textPath>\n",
       "        </text>\n",
       "        <path class=\"displacy-arrowhead\" d=\"M1541.0,679.0 L1545.0,671.0 1537.0,671.0\" fill=\"currentColor\"/>\n",
       "    </g>\n",
       "    \n",
       "    <g class=\"displacy-arrow\">\n",
       "        <path class=\"displacy-arc\" id=\"arrow-0-2\" stroke-width=\"2px\" d=\"M362,677.0 362,652.0 476.0,652.0 476.0,677.0\" fill=\"none\" stroke=\"currentColor\"/>\n",
       "        <text dy=\"1.25em\" style=\"font-size: 0.8em; letter-spacing: 1px\">\n",
       "            <textPath xlink:href=\"#arrow-0-2\" class=\"displacy-label\" startOffset=\"50%\" side=\"left\" fill=\"currentColor\" text-anchor=\"middle\">MT</textPath>\n",
       "        </text>\n",
       "        <path class=\"displacy-arrowhead\" d=\"M476.0,679.0 L480.0,671.0 472.0,671.0\" fill=\"currentColor\"/>\n",
       "    </g>\n",
       "    \n",
       "    <g class=\"displacy-arrow\">\n",
       "        <path class=\"displacy-arc\" id=\"arrow-0-3\" stroke-width=\"2px\" d=\"M362,677.0 362,627.0 629.0,627.0 629.0,677.0\" fill=\"none\" stroke=\"currentColor\"/>\n",
       "        <text dy=\"1.25em\" style=\"font-size: 0.8em; letter-spacing: 1px\">\n",
       "            <textPath xlink:href=\"#arrow-0-3\" class=\"displacy-label\" startOffset=\"50%\" side=\"left\" fill=\"currentColor\" text-anchor=\"middle\">COO</textPath>\n",
       "        </text>\n",
       "        <path class=\"displacy-arrowhead\" d=\"M629.0,679.0 L633.0,671.0 625.0,671.0\" fill=\"currentColor\"/>\n",
       "    </g>\n",
       "    \n",
       "    <g class=\"displacy-arrow\">\n",
       "        <path class=\"displacy-arc\" id=\"arrow-0-4\" stroke-width=\"2px\" d=\"M662,677.0 662,652.0 776.0,652.0 776.0,677.0\" fill=\"none\" stroke=\"currentColor\"/>\n",
       "        <text dy=\"1.25em\" style=\"font-size: 0.8em; letter-spacing: 1px\">\n",
       "            <textPath xlink:href=\"#arrow-0-4\" class=\"displacy-label\" startOffset=\"50%\" side=\"left\" fill=\"currentColor\" text-anchor=\"middle\">MT</textPath>\n",
       "        </text>\n",
       "        <path class=\"displacy-arrowhead\" d=\"M776.0,679.0 L780.0,671.0 772.0,671.0\" fill=\"currentColor\"/>\n",
       "    </g>\n",
       "    \n",
       "    <g class=\"displacy-arrow\">\n",
       "        <path class=\"displacy-arc\" id=\"arrow-0-5\" stroke-width=\"2px\" d=\"M362,677.0 362,602.0 932.0,602.0 932.0,677.0\" fill=\"none\" stroke=\"currentColor\"/>\n",
       "        <text dy=\"1.25em\" style=\"font-size: 0.8em; letter-spacing: 1px\">\n",
       "            <textPath xlink:href=\"#arrow-0-5\" class=\"displacy-label\" startOffset=\"50%\" side=\"left\" fill=\"currentColor\" text-anchor=\"middle\">COO</textPath>\n",
       "        </text>\n",
       "        <path class=\"displacy-arrowhead\" d=\"M932.0,679.0 L936.0,671.0 928.0,671.0\" fill=\"currentColor\"/>\n",
       "    </g>\n",
       "    \n",
       "    <g class=\"displacy-arrow\">\n",
       "        <path class=\"displacy-arc\" id=\"arrow-0-6\" stroke-width=\"2px\" d=\"M962,677.0 962,652.0 1076.0,652.0 1076.0,677.0\" fill=\"none\" stroke=\"currentColor\"/>\n",
       "        <text dy=\"1.25em\" style=\"font-size: 0.8em; letter-spacing: 1px\">\n",
       "            <textPath xlink:href=\"#arrow-0-6\" class=\"displacy-label\" startOffset=\"50%\" side=\"left\" fill=\"currentColor\" text-anchor=\"middle\">MT</textPath>\n",
       "        </text>\n",
       "        <path class=\"displacy-arrowhead\" d=\"M1076.0,679.0 L1080.0,671.0 1072.0,671.0\" fill=\"currentColor\"/>\n",
       "    </g>\n",
       "    \n",
       "    <g class=\"displacy-arrow\">\n",
       "        <path class=\"displacy-arc\" id=\"arrow-0-7\" stroke-width=\"2px\" d=\"M362,677.0 362,577.0 1235.0,577.0 1235.0,677.0\" fill=\"none\" stroke=\"currentColor\"/>\n",
       "        <text dy=\"1.25em\" style=\"font-size: 0.8em; letter-spacing: 1px\">\n",
       "            <textPath xlink:href=\"#arrow-0-7\" class=\"displacy-label\" startOffset=\"50%\" side=\"left\" fill=\"currentColor\" text-anchor=\"middle\">COO</textPath>\n",
       "        </text>\n",
       "        <path class=\"displacy-arrowhead\" d=\"M1235.0,679.0 L1239.0,671.0 1231.0,671.0\" fill=\"currentColor\"/>\n",
       "    </g>\n",
       "    \n",
       "    <g class=\"displacy-arrow\">\n",
       "        <path class=\"displacy-arc\" id=\"arrow-0-8\" stroke-width=\"2px\" d=\"M362,677.0 362,552.0 1388.0,552.0 1388.0,677.0\" fill=\"none\" stroke=\"currentColor\"/>\n",
       "        <text dy=\"1.25em\" style=\"font-size: 0.8em; letter-spacing: 1px\">\n",
       "            <textPath xlink:href=\"#arrow-0-8\" class=\"displacy-label\" startOffset=\"50%\" side=\"left\" fill=\"currentColor\" text-anchor=\"middle\">ATT</textPath>\n",
       "        </text>\n",
       "        <path class=\"displacy-arrowhead\" d=\"M1388.0,679.0 L1392.0,671.0 1384.0,671.0\" fill=\"currentColor\"/>\n",
       "    </g>\n",
       "    \n",
       "    <g class=\"displacy-arrow\">\n",
       "        <path class=\"displacy-arc\" id=\"arrow-0-9\" stroke-width=\"2px\" d=\"M212,677.0 212,502.0 1544.0,502.0 1544.0,677.0\" fill=\"none\" stroke=\"currentColor\"/>\n",
       "        <text dy=\"1.25em\" style=\"font-size: 0.8em; letter-spacing: 1px\">\n",
       "            <textPath xlink:href=\"#arrow-0-9\" class=\"displacy-label\" startOffset=\"50%\" side=\"left\" fill=\"currentColor\" text-anchor=\"middle\">POB</textPath>\n",
       "        </text>\n",
       "        <path class=\"displacy-arrowhead\" d=\"M1544.0,679.0 L1548.0,671.0 1540.0,671.0\" fill=\"currentColor\"/>\n",
       "    </g>\n",
       "    \n",
       "    <g class=\"displacy-arrow\">\n",
       "        <path class=\"displacy-arc\" id=\"arrow-0-10\" stroke-width=\"2px\" d=\"M62,677.0 62,452.0 1700.0,452.0 1700.0,677.0\" fill=\"none\" stroke=\"currentColor\"/>\n",
       "        <text dy=\"1.25em\" style=\"font-size: 0.8em; letter-spacing: 1px\">\n",
       "            <textPath xlink:href=\"#arrow-0-10\" class=\"displacy-label\" startOffset=\"50%\" side=\"left\" fill=\"currentColor\" text-anchor=\"middle\">HED</textPath>\n",
       "        </text>\n",
       "        <path class=\"displacy-arrowhead\" d=\"M1700.0,679.0 L1704.0,671.0 1696.0,671.0\" fill=\"currentColor\"/>\n",
       "    </g>\n",
       "    \n",
       "    <g class=\"displacy-arrow\">\n",
       "        <path class=\"displacy-arc\" id=\"arrow-0-11\" stroke-width=\"2px\" d=\"M1712,677.0 1712,652.0 1826.0,652.0 1826.0,677.0\" fill=\"none\" stroke=\"currentColor\"/>\n",
       "        <text dy=\"1.25em\" style=\"font-size: 0.8em; letter-spacing: 1px\">\n",
       "            <textPath xlink:href=\"#arrow-0-11\" class=\"displacy-label\" startOffset=\"50%\" side=\"left\" fill=\"currentColor\" text-anchor=\"middle\">VOB</textPath>\n",
       "        </text>\n",
       "        <path class=\"displacy-arrowhead\" d=\"M1826.0,679.0 L1830.0,671.0 1822.0,671.0\" fill=\"currentColor\"/>\n",
       "    </g>\n",
       "    \n",
       "    <g class=\"displacy-arrow\">\n",
       "        <path class=\"displacy-arc\" id=\"arrow-0-12\" stroke-width=\"2px\" d=\"M1712,677.0 1712,627.0 1979.0,627.0 1979.0,677.0\" fill=\"none\" stroke=\"currentColor\"/>\n",
       "        <text dy=\"1.25em\" style=\"font-size: 0.8em; letter-spacing: 1px\">\n",
       "            <textPath xlink:href=\"#arrow-0-12\" class=\"displacy-label\" startOffset=\"50%\" side=\"left\" fill=\"currentColor\" text-anchor=\"middle\">MT</textPath>\n",
       "        </text>\n",
       "        <path class=\"displacy-arrowhead\" d=\"M1979.0,679.0 L1983.0,671.0 1975.0,671.0\" fill=\"currentColor\"/>\n",
       "    </g>\n",
       "    \n",
       "    <g class=\"displacy-arrow\">\n",
       "        <path class=\"displacy-arc\" id=\"arrow-0-13\" stroke-width=\"2px\" d=\"M1712,677.0 1712,602.0 2132.0,602.0 2132.0,677.0\" fill=\"none\" stroke=\"currentColor\"/>\n",
       "        <text dy=\"1.25em\" style=\"font-size: 0.8em; letter-spacing: 1px\">\n",
       "            <textPath xlink:href=\"#arrow-0-13\" class=\"displacy-label\" startOffset=\"50%\" side=\"left\" fill=\"currentColor\" text-anchor=\"middle\">VV</textPath>\n",
       "        </text>\n",
       "        <path class=\"displacy-arrowhead\" d=\"M2132.0,679.0 L2136.0,671.0 2128.0,671.0\" fill=\"currentColor\"/>\n",
       "    </g>\n",
       "    \n",
       "    <g class=\"displacy-arrow\">\n",
       "        <path class=\"displacy-arc\" id=\"arrow-0-14\" stroke-width=\"2px\" d=\"M2162,677.0 2162,652.0 2276.0,652.0 2276.0,677.0\" fill=\"none\" stroke=\"currentColor\"/>\n",
       "        <text dy=\"1.25em\" style=\"font-size: 0.8em; letter-spacing: 1px\">\n",
       "            <textPath xlink:href=\"#arrow-0-14\" class=\"displacy-label\" startOffset=\"50%\" side=\"left\" fill=\"currentColor\" text-anchor=\"middle\">VOB</textPath>\n",
       "        </text>\n",
       "        <path class=\"displacy-arrowhead\" d=\"M2276.0,679.0 L2280.0,671.0 2272.0,671.0\" fill=\"currentColor\"/>\n",
       "    </g>\n",
       "    \n",
       "    <g class=\"displacy-arrow\">\n",
       "        <path class=\"displacy-arc\" id=\"arrow-0-15\" stroke-width=\"2px\" d=\"M2462,677.0 2462,652.0 2576.0,652.0 2576.0,677.0\" fill=\"none\" stroke=\"currentColor\"/>\n",
       "        <text dy=\"1.25em\" style=\"font-size: 0.8em; letter-spacing: 1px\">\n",
       "            <textPath xlink:href=\"#arrow-0-15\" class=\"displacy-label\" startOffset=\"50%\" side=\"left\" fill=\"currentColor\" text-anchor=\"middle\">MT</textPath>\n",
       "        </text>\n",
       "        <path class=\"displacy-arrowhead\" d=\"M2576.0,679.0 L2580.0,671.0 2572.0,671.0\" fill=\"currentColor\"/>\n",
       "    </g>\n",
       "    \n",
       "    <g class=\"displacy-arrow\">\n",
       "        <path class=\"displacy-arc\" id=\"arrow-0-16\" stroke-width=\"2px\" d=\"M2312,677.0 2312,627.0 2579.0,627.0 2579.0,677.0\" fill=\"none\" stroke=\"currentColor\"/>\n",
       "        <text dy=\"1.25em\" style=\"font-size: 0.8em; letter-spacing: 1px\">\n",
       "            <textPath xlink:href=\"#arrow-0-16\" class=\"displacy-label\" startOffset=\"50%\" side=\"left\" fill=\"currentColor\" text-anchor=\"middle\">COO</textPath>\n",
       "        </text>\n",
       "        <path class=\"displacy-arrowhead\" d=\"M2579.0,679.0 L2583.0,671.0 2575.0,671.0\" fill=\"currentColor\"/>\n",
       "    </g>\n",
       "    \n",
       "    <g class=\"displacy-arrow\">\n",
       "        <path class=\"displacy-arc\" id=\"arrow-0-17\" stroke-width=\"2px\" d=\"M2162,677.0 2162,602.0 2732.0,602.0 2732.0,677.0\" fill=\"none\" stroke=\"currentColor\"/>\n",
       "        <text dy=\"1.25em\" style=\"font-size: 0.8em; letter-spacing: 1px\">\n",
       "            <textPath xlink:href=\"#arrow-0-17\" class=\"displacy-label\" startOffset=\"50%\" side=\"left\" fill=\"currentColor\" text-anchor=\"middle\">MT</textPath>\n",
       "        </text>\n",
       "        <path class=\"displacy-arrowhead\" d=\"M2732.0,679.0 L2736.0,671.0 2728.0,671.0\" fill=\"currentColor\"/>\n",
       "    </g>\n",
       "    </svg>\n",
       "    "
      ]
     },
     "metadata": {},
     "output_type": "display_data"
    }
   ],
   "source": [
    "envpos.dp_viz(s)"
   ]
  },
  {
   "cell_type": "markdown",
   "id": "1ef46dfa-7cc2-4458-aea5-272cc591b71a",
   "metadata": {},
   "source": [
    "推理得到结果"
   ]
  },
  {
   "cell_type": "code",
   "execution_count": 11,
   "id": "c46fafd0-c81d-4be6-8d1a-92390b411fa9",
   "metadata": {
    "execution": {
     "iopub.execute_input": "2023-03-28T11:11:30.524149Z",
     "iopub.status.busy": "2023-03-28T11:11:30.523653Z",
     "iopub.status.idle": "2023-03-28T11:11:30.585981Z",
     "shell.execute_reply": "2023-03-28T11:11:30.585149Z",
     "shell.execute_reply.started": "2023-03-28T11:11:30.524131Z"
    },
    "tags": []
   },
   "outputs": [],
   "source": [
    "result = envpos.dp_cut(s)"
   ]
  },
  {
   "cell_type": "code",
   "execution_count": 12,
   "id": "dd01dca2-09bf-4aa3-80a9-26de4140e70e",
   "metadata": {
    "execution": {
     "iopub.execute_input": "2023-03-28T11:11:30.587258Z",
     "iopub.status.busy": "2023-03-28T11:11:30.587007Z",
     "iopub.status.idle": "2023-03-28T11:11:30.591153Z",
     "shell.execute_reply": "2023-03-28T11:11:30.590670Z",
     "shell.execute_reply.started": "2023-03-28T11:11:30.587238Z"
    },
    "tags": []
   },
   "outputs": [
    {
     "name": "stdout",
     "output_type": "stream",
     "text": [
      "word\t\thead\t\tpos\t\tdeprel\n",
      "以\t\t11\t\tADV\t\tp\n",
      "钢铁\t\t10\t\tATT\t\thy\n",
      "、\t\t2\t\tMT\t\tconj\n",
      "有色金属\t\t2\t\tCOO\t\thy\n",
      "、\t\t4\t\tMT\t\tconj\n"
     ]
    }
   ],
   "source": [
    "print(\"\\t\\t\".join([\"word\",\"head\",\"pos\",\"deprel\"]))\n",
    "\n",
    "for idx,(word,head,pos,deprel) in enumerate(zip(*list(result[0].values()))):\n",
    "    if idx < 5:\n",
    "        print(\"\\t\\t\".join([word,str(head),pos,deprel]))"
   ]
  },
  {
   "cell_type": "markdown",
   "id": "eba63cc7-0b7b-4fb9-a1b8-16a292ebac6f",
   "metadata": {},
   "source": [
    "### 5. 查看类别设置及其含义"
   ]
  },
  {
   "cell_type": "code",
   "execution_count": 13,
   "id": "7b49ebf9-b228-432a-bedb-dd9ffff0dae1",
   "metadata": {
    "execution": {
     "iopub.execute_input": "2023-03-28T11:11:30.592020Z",
     "iopub.status.busy": "2023-03-28T11:11:30.591846Z",
     "iopub.status.idle": "2023-03-28T11:11:30.600195Z",
     "shell.execute_reply": "2023-03-28T11:11:30.599769Z",
     "shell.execute_reply.started": "2023-03-28T11:11:30.592005Z"
    },
    "tags": []
   },
   "outputs": [
    {
     "data": {
      "text/plain": [
       "{'med': '环境介质',\n",
       " 'phe': '环境现象',\n",
       " 'pol': '污染物',\n",
       " 'microbe': '微生物',\n",
       " 'plant': '植物',\n",
       " 'animal': '动物',\n",
       " 'desease': '疾病',\n",
       " 'hy': '行业',\n",
       " 'group': '群体',\n",
       " 'act': '政策行动',\n",
       " 'policy': '政策要求',\n",
       " 'b': '抽象属性',\n",
       " 'env': '其他专业术语',\n",
       " 'time': '时间',\n",
       " 'loc': '地点',\n",
       " 'per': '人名',\n",
       " 'com': '公司名',\n",
       " 'org': '组织名',\n",
       " 'gov': '政府部门',\n",
       " 'doc': '文档名',\n",
       " 'event': '事件名',\n",
       " 'pro': '设施/项目名',\n",
       " 'ins': '工具名',\n",
       " 'means': '方法名',\n",
       " 'meet': '会议名',\n",
       " 'code': '编码',\n",
       " 'n': '名词',\n",
       " 'v': '动词',\n",
       " 'a': '形容词',\n",
       " 'd': '副词',\n",
       " 'vn': '动名词',\n",
       " 'f': '方位词',\n",
       " 'p': '介词',\n",
       " 'r': '代词',\n",
       " 'm': '数词',\n",
       " 'q': '量词',\n",
       " 'conj': '连词',\n",
       " 'w': '标点',\n",
       " 'u': '助词',\n",
       " 'xc': '虚词'}"
      ]
     },
     "execution_count": 13,
     "metadata": {},
     "output_type": "execute_result"
    }
   ],
   "source": [
    "envpos.LABEL_MAPPING"
   ]
  }
 ],
 "metadata": {
  "kernelspec": {
   "display_name": "Python 3 (ipykernel)",
   "language": "python",
   "name": "python3"
  },
  "language_info": {
   "codemirror_mode": {
    "name": "ipython",
    "version": 3
   },
   "file_extension": ".py",
   "mimetype": "text/x-python",
   "name": "python",
   "nbconvert_exporter": "python",
   "pygments_lexer": "ipython3",
   "version": "3.8.13"
  }
 },
 "nbformat": 4,
 "nbformat_minor": 5
}
